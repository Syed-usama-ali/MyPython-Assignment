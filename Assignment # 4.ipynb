{
 "cells": [
  {
   "cell_type": "markdown",
   "id": "2a81397e",
   "metadata": {},
   "source": [
    "# Make a calculator using Python with addition , subtraction ,multiplication ,division and power."
   ]
  },
  {
   "cell_type": "code",
   "execution_count": 20,
   "id": "02628190",
   "metadata": {},
   "outputs": [
    {
     "name": "stdout",
     "output_type": "stream",
     "text": [
      "Press a/A for addition\n",
      "Press s/S for subtraction\n",
      "Press m/M for multiplication\n",
      "Press d/D for division\n",
      "Press p/P for Power\n",
      "o\n",
      "Wrong input\n"
     ]
    }
   ],
   "source": [
    "inp=input(\"Press a/A for addition\\nPress s/S for subtraction\\nPress m/M for multiplication\\nPress d/D for division\\nPress p/P for Power\\n\")\n",
    "if inp == 'a' or inp == 'A':\n",
    "    num1=float(input(\"Please enter 1st Number\"))\n",
    "    num2=float(input(\"Please enter 2nd Number\"))\n",
    "    print(\"Sum is\", num1+num2)\n",
    "elif inp == 's' or inp == 'S':\n",
    "    num1=float(input(\"Please enter 1st Number\"))\n",
    "    num2=float(input(\"Please enter 2nd Number\"))\n",
    "    print(\"Difference is\", num1-num2)\n",
    "elif inp == 'm' or inp == 'M':\n",
    "    num1=float(input(\"Please enter 1st Number\"))\n",
    "    num2=float(input(\"Please enter 2nd Number\"))\n",
    "    print(\"Product is\", num1*num2)\n",
    "elif inp == 'd' or inp == 'D':\n",
    "    num1=float(input(\"Please enter 1st Number\"))\n",
    "    num2=float(input(\"Please enter 2nd Number\"))\n",
    "    print(\"Quotient is\", num1/num2)\n",
    "elif inp == 'p' or inp == 'P':\n",
    "    num1=float(input(\"Please enter 1st Number\"))\n",
    "    num2=float(input(\"Please enter 2nd Number\"))\n",
    "    print(str(num1)+\" Raise to the Power \"+str(num2) +\" is\", num1**num2)\n",
    "else:\n",
    "    print(\"Wrong input\")\n",
    "\n",
    "    "
   ]
  },
  {
   "cell_type": "markdown",
   "id": "bff226dd",
   "metadata": {},
   "source": [
    "# Write a program to check if there is any numeric value in list using for loop."
   ]
  },
  {
   "cell_type": "code",
   "execution_count": 13,
   "id": "2d5a8de6",
   "metadata": {},
   "outputs": [
    {
     "name": "stdout",
     "output_type": "stream",
     "text": [
      "2 Numeric value(s) found\n"
     ]
    }
   ],
   "source": [
    "lst=['a','b',2,'c','d','f',1]\n",
    "numval=0\n",
    "for i in lst:\n",
    "    if type(i)==int:\n",
    "        numval+=1\n",
    "if numval==0:\n",
    "    print(\"No numeric value found\")\n",
    "else:\n",
    "    print(str(numval)+\" Numeric value(s) found\")"
   ]
  },
  {
   "cell_type": "markdown",
   "id": "13d7841a",
   "metadata": {},
   "source": [
    "# Write a Python script to add a key to a dictionary."
   ]
  },
  {
   "cell_type": "code",
   "execution_count": 14,
   "id": "f85f3d6c",
   "metadata": {},
   "outputs": [],
   "source": [
    "dic={}"
   ]
  },
  {
   "cell_type": "code",
   "execution_count": 15,
   "id": "f657f039",
   "metadata": {},
   "outputs": [
    {
     "name": "stdout",
     "output_type": "stream",
     "text": [
      "Enter a keyaaa\n",
      "Enter a value111\n"
     ]
    }
   ],
   "source": [
    "key=input(\"Enter a key\")\n",
    "val=input(\"Enter a value\")\n",
    "dic[key]=val"
   ]
  },
  {
   "cell_type": "code",
   "execution_count": 16,
   "id": "2f3360da",
   "metadata": {},
   "outputs": [
    {
     "name": "stdout",
     "output_type": "stream",
     "text": [
      "{'aaa': '111'}\n"
     ]
    }
   ],
   "source": [
    "print(dic)"
   ]
  },
  {
   "cell_type": "markdown",
   "id": "12d4fa1d",
   "metadata": {},
   "source": [
    "# Write a Python program to sum all the numeric items in a dictionary."
   ]
  },
  {
   "cell_type": "code",
   "execution_count": 29,
   "id": "22e79cfd",
   "metadata": {},
   "outputs": [
    {
     "name": "stdout",
     "output_type": "stream",
     "text": [
      "sum of all numeric key/value members of dictionary is  27\n"
     ]
    }
   ],
   "source": [
    "dictt={'a':1,'b':2,'c':3,10:'x',11:'y'}\n",
    "s_key=0\n",
    "s_val=0\n",
    "for key,val in dictt.items():\n",
    "    if type(key)==int:\n",
    "        s_key=s_key+key\n",
    "    if type(val)==int:\n",
    "        s_val=s_val+val\n",
    "print(\"sum of all numeric key/value members of dictionary is \",s_key+s_val)        "
   ]
  },
  {
   "cell_type": "markdown",
   "id": "e833bd26",
   "metadata": {},
   "source": [
    "# Write a program to identify duplicate values from list."
   ]
  },
  {
   "cell_type": "code",
   "execution_count": 53,
   "id": "6d693879",
   "metadata": {},
   "outputs": [
    {
     "name": "stdout",
     "output_type": "stream",
     "text": [
      "a Repeats 3 times\n",
      "b Repeats 2 times\n",
      "1 Repeats 2 times\n",
      "2 Repeats 2 times\n"
     ]
    }
   ],
   "source": [
    "ll=['a','a','a','b','b',1,1,2,2,3,'z']        \n",
    "dict2={i:ll.count(i) for i in ll if ll.count(i)>1}\n",
    "for key,val in dict2.items():\n",
    "    print(str(key)+\" Repeats \"+str(val)+ \" times\")"
   ]
  },
  {
   "cell_type": "markdown",
   "id": "e89e63ed",
   "metadata": {},
   "source": [
    "# Write a Python script to check if a given key already exists in a dictionary"
   ]
  },
  {
   "cell_type": "code",
   "execution_count": 63,
   "id": "033069c5",
   "metadata": {},
   "outputs": [
    {
     "name": "stdout",
     "output_type": "stream",
     "text": [
      "Enter a key you want to check10\n",
      "'10' do not exist as a key in the dictionary \n"
     ]
    }
   ],
   "source": [
    "lk={'a':10,'b':11,'c':10,'d':100}\n",
    "keyy=input(\"Enter a key you want to check\")\n",
    "if keyy in lk.keys():\n",
    "    print(\"'\"+str(keyy)+\"'\"+\" Already exists as a key\")\n",
    "else:\n",
    "    print(\"'\"+str(keyy)+\"'\"+\" do not exist as a key in the dictionary \")"
   ]
  }
 ],
 "metadata": {
  "kernelspec": {
   "display_name": "Python 3",
   "language": "python",
   "name": "python3"
  },
  "language_info": {
   "codemirror_mode": {
    "name": "ipython",
    "version": 3
   },
   "file_extension": ".py",
   "mimetype": "text/x-python",
   "name": "python",
   "nbconvert_exporter": "python",
   "pygments_lexer": "ipython3",
   "version": "3.8.8"
  }
 },
 "nbformat": 4,
 "nbformat_minor": 5
}
