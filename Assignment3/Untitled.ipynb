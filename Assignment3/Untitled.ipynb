{
 "cells": [
  {
   "cell_type": "markdown",
   "id": "b0d66412",
   "metadata": {},
   "source": [
    "# Assignment # 3"
   ]
  },
  {
   "cell_type": "markdown",
   "id": "e0be8c7d",
   "metadata": {},
   "source": [
    "# Python program to print the following string in a specific format"
   ]
  },
  {
   "cell_type": "code",
   "execution_count": 23,
   "id": "35c78481",
   "metadata": {},
   "outputs": [
    {
     "name": "stdout",
     "output_type": "stream",
     "text": [
      "Twinkle, twinkle, little star,\n",
      "\tHow I wonder what you are!\n",
      "\t\tUp above the world so high,\n",
      "\t\tLike a diamond in the sky.\n",
      "Twinkle,twinkle, little star,\n",
      "\tHow I wonder what you are\n"
     ]
    }
   ],
   "source": [
    "print(\"Twinkle, twinkle, little star,\\n\\tHow I wonder what you are!\\n\\t\\tUp above the world so high,\\n\\t\\tLike a diamond in the sky.\\nTwinkle,twinkle, little star,\\n\\tHow I wonder what you are\")"
   ]
  },
  {
   "cell_type": "markdown",
   "id": "2d9262c2",
   "metadata": {},
   "source": [
    "# Python program to get the Python version you are using."
   ]
  },
  {
   "cell_type": "code",
   "execution_count": 24,
   "id": "a7178188",
   "metadata": {},
   "outputs": [
    {
     "name": "stdout",
     "output_type": "stream",
     "text": [
      "3.8.8\n"
     ]
    }
   ],
   "source": [
    "import platform as pf\n",
    "print(pf.python_version())"
   ]
  },
  {
   "cell_type": "markdown",
   "id": "fcb4d967",
   "metadata": {},
   "source": [
    "# Python program to display the current date and time."
   ]
  },
  {
   "cell_type": "code",
   "execution_count": 25,
   "id": "ea153f46",
   "metadata": {},
   "outputs": [
    {
     "name": "stdout",
     "output_type": "stream",
     "text": [
      "Current Date and Time:  2021-10-23 02:03:08\n"
     ]
    }
   ],
   "source": [
    "import datetime as dt\n",
    "print(\"Current Date and Time: \",dt.datetime.now().strftime(\"%Y-%m-%d %H:%M:%S\"))"
   ]
  },
  {
   "cell_type": "markdown",
   "id": "270c6a68",
   "metadata": {},
   "source": [
    "# Python program which accepts the radius of a circle from the user and compute the area."
   ]
  },
  {
   "cell_type": "code",
   "execution_count": 26,
   "id": "0002e54b",
   "metadata": {},
   "outputs": [
    {
     "name": "stdout",
     "output_type": "stream",
     "text": [
      "please enter the radiue6\n",
      "The area of the circle of radius 6.0 is 113.097\n"
     ]
    }
   ],
   "source": [
    "import math\n",
    "try:\n",
    "    radius=float(input(\"please enter the radiue\"))\n",
    "    area=(math.pi)*(radius**2)\n",
    "    print(\"The area of the circle of radius \"+str(radius)+\" is \" +str(round(area,3)))\n",
    "except ValueError:\n",
    "    print(\"Please input a number olny\")"
   ]
  },
  {
   "cell_type": "markdown",
   "id": "75f437aa",
   "metadata": {},
   "source": [
    "# Python program which accepts the user's first and last name and print them in reverse order with a space between them."
   ]
  },
  {
   "cell_type": "code",
   "execution_count": 27,
   "id": "6ac0fb75",
   "metadata": {},
   "outputs": [
    {
     "name": "stdout",
     "output_type": "stream",
     "text": [
      "Please enter your First nameusama\\\n",
      "Please enter your Last nameali\n",
      "\\amasu ila\n"
     ]
    }
   ],
   "source": [
    "firstName=input(\"Please enter your First name\")\n",
    "lastName=input(\"Please enter your Last name\")\n",
    "print(firstName[::-1]+\" \"+lastName[::-1])"
   ]
  },
  {
   "cell_type": "markdown",
   "id": "de9b10a2",
   "metadata": {},
   "source": [
    "# Python program which takes two inputs from user and print them addition"
   ]
  },
  {
   "cell_type": "code",
   "execution_count": 28,
   "id": "c700b579",
   "metadata": {},
   "outputs": [
    {
     "name": "stdout",
     "output_type": "stream",
     "text": [
      "Please enter A number6\n",
      "Please enter another number6\n",
      "The addition of two numbers you entered is  12\n"
     ]
    }
   ],
   "source": [
    "inp1=int(input(\"Please enter A number\"))\n",
    "inp2=int(input(\"Please enter another number\"))\n",
    "print(\"The addition of two numbers you entered is \",inp1+inp2)"
   ]
  },
  {
   "cell_type": "markdown",
   "id": "67d27315",
   "metadata": {},
   "source": [
    "# Python program which takes 5 inputs from user for different subject’s marks, total it and generate mark sheet using grades."
   ]
  },
  {
   "cell_type": "code",
   "execution_count": 16,
   "id": "96ae7128",
   "metadata": {
    "scrolled": true
   },
   "outputs": [
    {
     "name": "stdout",
     "output_type": "stream",
     "text": [
      "Please enter marks obtained in English75\n",
      "Please enter marks obtained in Physics75\n",
      "Please enter marks obtained in Chemistry75\n",
      "Please enter marks obtained in Maths75\n",
      "Please enter marks obtained in Islamiat75\n",
      "Your Grade is B\n"
     ]
    }
   ],
   "source": [
    "engMarks=int(input(\"Please enter marks obtained in English out of 100\"));\n",
    "phyMarks=int(input(\"Please enter marks obtained in Physics out of 100\"));\n",
    "chemMarks=int(input(\"Please enter marks obtained in Chemistry out of 100\"));\n",
    "mathMarks=int(input(\"Please enter marks obtained in Maths out of 100\"));\n",
    "islmMarks=int(input(\"Please enter marks obtained in Islamiat out of 100\"));\n",
    "totalMarke=500;\n",
    "totalObtained=engMarks+phyMarks+chemMarks+mathMarks+islmMarks;\n",
    "totalpercent=(totalObtained/totalMarke)*100;\n",
    "if totalpercent<=100 and totalpercent>=90:\n",
    "    print(\"Your Grade is A+\")\n",
    "elif totalpercent<90 and totalpercent>=80:\n",
    "    print(\"Your Grade is A\")\n",
    "elif totalpercent<80 and totalpercent>=70:\n",
    "    print(\"Your Grade is B\")\n",
    "elif totalpercent<70 and totalpercent>=60:\n",
    "    print(\"Your Grade is C\")\n",
    "elif totalpercent<60 and totalpercent>=50:\n",
    "    print(\"Your Grade is D\")\n",
    "else:\n",
    "    print(\"Your grade is F\")"
   ]
  },
  {
   "cell_type": "markdown",
   "id": "c8b36d10",
   "metadata": {},
   "source": [
    "# Python program which take input from user and identify that the given number is even or odd."
   ]
  },
  {
   "cell_type": "code",
   "execution_count": 10,
   "id": "2929e45e",
   "metadata": {},
   "outputs": [
    {
     "name": "stdout",
     "output_type": "stream",
     "text": [
      "please enter a number10\n",
      "10 is an even number\n"
     ]
    }
   ],
   "source": [
    "num=float(input(\"please enter a number\"));\n",
    "num1=int(round(num))\n",
    "if num1%2==0:\n",
    "    print(str(num1)+\" is an even number\")\n",
    "else:\n",
    "    print(str(num1)+\" is a odd number\")"
   ]
  },
  {
   "cell_type": "markdown",
   "id": "f14157d6",
   "metadata": {},
   "source": [
    "# Python program which print the length of a list"
   ]
  },
  {
   "cell_type": "code",
   "execution_count": 11,
   "id": "3f9e2c0b",
   "metadata": {},
   "outputs": [
    {
     "name": "stdout",
     "output_type": "stream",
     "text": [
      "7\n"
     ]
    }
   ],
   "source": [
    "l=[4,'d',5,7,'t',8,'i']\n",
    "print(len(l))"
   ]
  },
  {
   "cell_type": "markdown",
   "id": "c580467c",
   "metadata": {},
   "source": [
    "# Python program to sum all the numeric items in a list"
   ]
  },
  {
   "cell_type": "code",
   "execution_count": 29,
   "id": "29bfa480",
   "metadata": {},
   "outputs": [
    {
     "name": "stdout",
     "output_type": "stream",
     "text": [
      "4\n"
     ]
    }
   ],
   "source": [
    "ll=[1,1,1,1]\n",
    "j=0\n",
    "for i in range(0,len(ll)):\n",
    "    if i==0:\n",
    "        j=ll[i]\n",
    "    else:\n",
    "        j=j+ll[i]\n",
    "print(j)        "
   ]
  },
  {
   "cell_type": "markdown",
   "id": "4eb750eb",
   "metadata": {},
   "source": [
    "# Python program to get the largest number from a numeric list."
   ]
  },
  {
   "cell_type": "code",
   "execution_count": 15,
   "id": "7174ec93",
   "metadata": {},
   "outputs": [
    {
     "name": "stdout",
     "output_type": "stream",
     "text": [
      "101\n"
     ]
    }
   ],
   "source": [
    "lst=[100,5,101,4];\n",
    "k=0\n",
    "for i in range(0,len(lst)):\n",
    "    if i==0:\n",
    "        k=lst[i]\n",
    "    else:\n",
    "        if lst[i]>k:\n",
    "            k=lst[i]\n",
    "print(k)       "
   ]
  },
  {
   "cell_type": "markdown",
   "id": "e47fe5dc",
   "metadata": {},
   "source": [
    "# Python program that prints out all the elements of the list that are less than 5."
   ]
  },
  {
   "cell_type": "code",
   "execution_count": 22,
   "id": "42fbdea2",
   "metadata": {},
   "outputs": [
    {
     "name": "stdout",
     "output_type": "stream",
     "text": [
      "Element of the list which are less than 5  [1, 1, 2, 3, 0, -1]\n"
     ]
    }
   ],
   "source": [
    "numlst1=[1, 1, 2, 3, 5, 8, 13, 21, 34, 55, 89,0,-1]\n",
    "numlst2=[]\n",
    "for i in numlst1:\n",
    "    if i<5:\n",
    "        numlst2.append(i)\n",
    "print(\"Element of the list which are less than 5 \",numlst2)"
   ]
  },
  {
   "cell_type": "code",
   "execution_count": null,
   "id": "bbf0891c",
   "metadata": {},
   "outputs": [],
   "source": []
  }
 ],
 "metadata": {
  "kernelspec": {
   "display_name": "Python 3",
   "language": "python",
   "name": "python3"
  },
  "language_info": {
   "codemirror_mode": {
    "name": "ipython",
    "version": 3
   },
   "file_extension": ".py",
   "mimetype": "text/x-python",
   "name": "python",
   "nbconvert_exporter": "python",
   "pygments_lexer": "ipython3",
   "version": "3.8.8"
  }
 },
 "nbformat": 4,
 "nbformat_minor": 5
}
